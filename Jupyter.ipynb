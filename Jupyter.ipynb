{
 "cells": [
  {
   "cell_type": "markdown",
   "id": "2c3b03d9",
   "metadata": {},
   "source": [
    "# 2023 Analysis of proffesions of canditates to Polish Sejm in 2023 elections"
   ]
  },
  {
   "cell_type": "markdown",
   "id": "7aed5fd9",
   "metadata": {},
   "source": [
    "### This file is exclusivle used to get data, instead of running it you can just download .csv file."
   ]
  },
  {
   "cell_type": "markdown",
   "id": "e529cabb",
   "metadata": {},
   "source": [
    "This is first part of the project - data scraping with python. Visualizations will be made with Power BI.\n",
    "Data comes from national electoral committee website"
   ]
  },
  {
   "cell_type": "code",
   "execution_count": 53,
   "id": "7657eb4e",
   "metadata": {},
   "outputs": [],
   "source": [
    "# selenium liblaries\n",
    "from selenium import webdriver\n",
    "from selenium.webdriver.chrome.service import Service\n",
    "from webdriver_manager.chrome import ChromeDriverManager\n",
    "from selenium.webdriver.common.by import By"
   ]
  },
  {
   "cell_type": "code",
   "execution_count": 55,
   "id": "dbaa3c64",
   "metadata": {},
   "outputs": [],
   "source": [
    "def other(committee):\n",
    "    big_committee_list = [\n",
    "        'KW PRAWO I SPRAWIEDLIWOŚĆ',\n",
    "        'KKW KOALICJA OBYWATELSKA PO .N IPL ZIELONI',\n",
    "        'KKW TRZECIA DROGA PSL-PL2050 SZYMONA HOŁOWNI',\n",
    "        'KW NOWA LEWICA',\n",
    "        'KW KONFEDERACJA WOLNOŚĆ I NIEPODLEGŁOŚĆ'\n",
    "        'KW POLSKA LIBERALNA STRAJK PRZEDSIĘBIORCÓW',\n",
    "        'KW POLSKA JEST JEDNA',\n",
    "        'KW BEZPARTYJNI SAMORZĄDOWCY'\n",
    "    ]\n",
    "    # this first if statement is just forcing my way through some bug that I couldn't solve.\n",
    "    if committee == 'KW KONFEDERACJA WOLNOŚĆ I NIEPODLEGŁOŚĆ' or committee == 'KW POLSKA LIBERALNA STRAJK PRZEDSIĘBIORCÓW': \n",
    "        return committee\n",
    "    elif committee not in big_committee_list:\n",
    "        return \"INNE\"\n",
    "    else:\n",
    "        return committee\n",
    "\n",
    "def get_data():\n",
    "    # wait for page to load\n",
    "    driver.implicitly_wait(2)\n",
    "    # there is 7016 canditates\n",
    "    array_wrap = driver.find_element(By.ID, \"DataTables_Table_0\")\n",
    "    array = array_wrap.find_element(By.TAG_NAME, \"tbody\")\n",
    "    candidate = array.find_elements(By.TAG_NAME, \"tr\")\n",
    "    with open('data.csv', 'w', encoding=\"utf-16-le\") as file:\n",
    "        j = 0\n",
    "        for j in range(0, 7015):\n",
    "            candidate_data = candidate[j].find_elements(By.TAG_NAME, \"td\")\n",
    "            i = 0\n",
    "            for i in range(0, 10):\n",
    "                if i == 3:\n",
    "                    file.write(other(candidate_data[i].find_element(By.TAG_NAME, \"a\").text) + \"; \")\n",
    "                if i == 5: # not looking at lustration statement\n",
    "                    continue\n",
    "                if candidate_data[i].text == '':\n",
    "                    file.write(candidate_data[i].find_element(By.TAG_NAME, \"a\").text)\n",
    "                else:\n",
    "                    file.write(candidate_data[i].text)\n",
    "                if i != 9:\n",
    "                    file.write('; ')\n",
    "            file.write('\\n')"
   ]
  },
  {
   "cell_type": "markdown",
   "id": "3f83a004",
   "metadata": {},
   "source": [
    "this takes a couple of minutes to run"
   ]
  },
  {
   "cell_type": "code",
   "execution_count": 56,
   "id": "bfbf4fd1",
   "metadata": {},
   "outputs": [],
   "source": [
    "options = webdriver.ChromeOptions()\n",
    "driver = webdriver.Firefox()\n",
    "driver.get(\"https://wybory.gov.pl/sejmsenat2023/pl/kandydaci?dlugosc_strony=-1\")\n",
    "get_data()\n",
    "driver.quit()"
   ]
  },
  {
   "cell_type": "code",
   "execution_count": 57,
   "id": "2735c705",
   "metadata": {},
   "outputs": [],
   "source": [
    "# file formating is not forming properly so thats a workaround\n",
    "def add_bom(file_path):\n",
    "    with open(file_path, 'r', encoding='utf-16-le') as f:\n",
    "        content = f.read()\n",
    "\n",
    "    with open(file_path, 'w', encoding='utf-16') as f:\n",
    "        f.write(content)\n",
    "\n",
    "add_bom('data.csv')"
   ]
  }
 ],
 "metadata": {
  "kernelspec": {
   "display_name": "Python 3 (ipykernel)",
   "language": "python",
   "name": "python3"
  },
  "language_info": {
   "codemirror_mode": {
    "name": "ipython",
    "version": 3
   },
   "file_extension": ".py",
   "mimetype": "text/x-python",
   "name": "python",
   "nbconvert_exporter": "python",
   "pygments_lexer": "ipython3",
   "version": "3.11.1"
  }
 },
 "nbformat": 4,
 "nbformat_minor": 5
}
